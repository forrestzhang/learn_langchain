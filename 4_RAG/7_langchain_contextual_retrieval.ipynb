{
 "cells": [
  {
   "cell_type": "code",
   "execution_count": 1,
   "metadata": {},
   "outputs": [],
   "source": [
    "# !pip install -qU langchain langchain-community langchain_chroma langchain_openai langchain_cohere langchain-text-splitters pypdf chromadb\n",
    "# !pip install onnxruntime-gpu --extra-index-url https://aiinfra.pkgs.visualstudio.com/PublicPackages/_packaging/onnxruntime-cuda-12/pypi/simple/\n",
    "# !pip install -U 'optimum[openvino,nncf]'\n",
    "# !pip install sentence-transformers langchain-huggingface\n"
   ]
  },
  {
   "cell_type": "code",
   "execution_count": 2,
   "metadata": {},
   "outputs": [],
   "source": [
    "from langchain_community.document_loaders import PyPDFLoader\n",
    "# from langchain_community.vectorstores import Chroma\n",
    "from langchain_text_splitters import RecursiveCharacterTextSplitter\n",
    "from langchain_community.embeddings import OllamaEmbeddings\n",
    "from langchain_ollama import ChatOllama\n",
    "from langchain_chroma import Chroma\n",
    "from langchain_huggingface import HuggingFaceEmbeddings\n",
    "from langchain_core.prompts import PromptTemplate\n"
   ]
  },
  {
   "cell_type": "code",
   "execution_count": 3,
   "metadata": {},
   "outputs": [
    {
     "name": "stderr",
     "output_type": "stream",
     "text": [
      "/home/forrest/miniconda3/envs/langchain/lib/python3.11/site-packages/sentence_transformers/cross_encoder/CrossEncoder.py:13: TqdmWarning: IProgress not found. Please update jupyter and ipywidgets. See https://ipywidgets.readthedocs.io/en/stable/user_install.html\n",
      "  from tqdm.autonotebook import tqdm, trange\n"
     ]
    }
   ],
   "source": [
    "# embeddings = OllamaEmbeddings(model='mxbai-embed-large', base_url='http://localhost:11434')\n",
    "model_name = \"mixedbread-ai/mxbai-embed-large-v1\"\n",
    "embeddings = HuggingFaceEmbeddings(\n",
    "    model_name=model_name,\n",
    ")\n",
    "# llm = ChatOllama(model=\"llama3.2\")\n",
    "llm = ChatOllama(model=\"qwen2.5\")"
   ]
  },
  {
   "cell_type": "code",
   "execution_count": 4,
   "metadata": {},
   "outputs": [],
   "source": [
    "# 初始化 RecursiveCharacterTextSplitter 类的实例\n",
    "# 该类用于将文本递归分割成更小的块，以便处理长文档\n",
    "text_splitter = RecursiveCharacterTextSplitter(\n",
    "    # 每个块的大小，用于控制分割后的文本块长度\n",
    "    chunk_size=3000,\n",
    "    # 块的重叠部分大小，用于在分割时保持上下文连贯性\n",
    "    chunk_overlap=200,\n",
    "    # 长度计算函数，这里使用 Python 内置的 len 函数计算字符数\n",
    "    length_function=len,\n",
    "    # 是否使用正则表达式作为分隔符，这里设置为 False\n",
    "    is_separator_regex=False,\n",
    ")"
   ]
  },
  {
   "cell_type": "code",
   "execution_count": 5,
   "metadata": {},
   "outputs": [],
   "source": [
    "loader = PyPDFLoader(\"./books/nio-q2-2024.pdf\")\n",
    "split_documents = loader.load_and_split(text_splitter=text_splitter)"
   ]
  },
  {
   "cell_type": "code",
   "execution_count": 6,
   "metadata": {},
   "outputs": [
    {
     "data": {
      "text/plain": [
       "21"
      ]
     },
     "execution_count": 6,
     "metadata": {},
     "output_type": "execute_result"
    }
   ],
   "source": [
    "len(split_documents)"
   ]
  },
  {
   "cell_type": "code",
   "execution_count": 7,
   "metadata": {},
   "outputs": [],
   "source": [
    "\n",
    "DOCUMENT_CONTEXT_PROMPT = \"\"\"\n",
    "\n",
    "{doc_content}\n",
    "\n",
    "\"\"\"\n",
    "\n",
    "CHUNK_CONTEXT_PROMPT = \"\"\"\n",
    "Here is the chunk we want to situate within the whole document\n",
    "\n",
    "{chunk_content}\n",
    "\n",
    "\n",
    "Please give a short succinct context to situate this chunk within the overall document for the purposes of improving search retrieval of the chunk.\n",
    "Answer only with the succinct context and nothing else.\n",
    "\"\"\""
   ]
  },
  {
   "cell_type": "code",
   "execution_count": 8,
   "metadata": {},
   "outputs": [],
   "source": [
    "from langchain_core.messages import (\n",
    "    AIMessage,\n",
    "    HumanMessage,\n",
    "    SystemMessage,\n",
    "    merge_message_runs,\n",
    ")"
   ]
  },
  {
   "cell_type": "code",
   "execution_count": 9,
   "metadata": {},
   "outputs": [],
   "source": [
    "def process_documents(split_documents):\n",
    "    all_content_in_batch = \"\\n\".join([doc.page_content for doc in split_documents])\n",
    "\n",
    "    # Create the system message\n",
    "    system_message = SystemMessage([\n",
    "        {\"type\": \"text\", \"text\": DOCUMENT_CONTEXT_PROMPT.format(doc_content=all_content_in_batch), \"cache_control\": {\"type\": \"ephemeral\"}}\n",
    "    ])\n",
    "\n",
    "    for current_doc in split_documents:\n",
    "        messages = [\n",
    "            system_message,\n",
    "            HumanMessage([\n",
    "                {\"type\": \"text\", \"text\": CHUNK_CONTEXT_PROMPT.format(chunk_content=current_doc.page_content)}\n",
    "            ])\n",
    "        ]\n",
    "\n",
    "        # Invoke the LLM\n",
    "        response = llm.invoke(messages)\n",
    "        print(response.content)\n",
    "\n",
    "        # Update the document's content\n",
    "        current_doc.page_content = response.content + \"\\n\\n\" + current_doc.page_content"
   ]
  },
  {
   "cell_type": "code",
   "execution_count": 10,
   "metadata": {},
   "outputs": [
    {
     "name": "stdout",
     "output_type": "stream",
     "text": [
      "This chunk provides NIO Inc.'s unaudited financial results for the second quarter of 2024, including vehicle deliveries, revenues, margins, and other key financial metrics. The report compares these figures to those from previous quarters and years.\n",
      "This financial data pertains to the second quarter of 2024, comparing it with the first quarter of 2024 and the second quarter of 2023. It includes vehicle sales and margin figures, as well as cash reserves.\n",
      "This financial and operational update covers NIO's revenues, profit margins, and losses from operations for a specific period, along with details on recent deliveries, strategic initiatives like the \"Power Up Counties\" plan, share issuance for incentive plans, and comments from the CEO regarding market performance and technological advancements.\n",
      "This financial report excerpt discusses NIO's performance for the second quarter of 2024, focusing on revenues, vehicle sales, and cost optimizations. It highlights William Bin Li's emphasis on brand positioning in the mass market and Stanley Yu Qu's comments on cost efficiency and future strategies.\n",
      "This chunk discusses the financial performance of the company in the second quarter of 2024, focusing on sales metrics, cost of sales, gross margins, and operating expenses. It compares these metrics with the same period in 2023 and the first quarter of 2024.\n",
      "This financial summary focuses on the operating expenses, including research and development (R&D) and selling, general, and administrative (SG&A) costs, as well as loss from operations for the second quarter of 2024. It compares these figures with those from the second quarter of 2023 and the first quarter of 2024, providing both GAAP and non-GAAP financial metrics.\n",
      "This section provides financial performance details, including net loss, earnings per share, balance sheet information, and business outlook for the second quarter of 2024. It also includes a conference call schedule for analysts and investors to discuss these results.\n",
      "This chunk provides details on how to dial into an upcoming conference call for NIO Inc. participants, including dial-in numbers, passcode, and a replay access number, followed by a brief introduction about NIO Inc.'s mission in the smart electric vehicle market.\n",
      "This chunk describes NIO's mission, core values, product lines, and provides a safe harbor statement regarding forward-looking statements. It is part of an overview or introduction section that aims to provide key information about NIO’s business philosophy, strategic direction, and potential future developments.\n",
      "This chunk discusses NIO's forward-looking statements and non-GAAP financial measures. It provides information on the risks affecting NIO, defines non-GAAP metrics used by the company, and cautions investors about the limitations of these measures.\n",
      "This chunk likely appears in a section explaining non-GAAP financial measures used by the company, emphasizing their limitations and importance of considering U.S. GAAP data as well. It probably follows an introduction to non-GAAP metrics and precedes a detailed reconciliation table.\n",
      "This chunk is part of an unaudited condensed consolidated financial statement report from NIO INC. It includes balance sheets as of December 31, 2023, and June 30, 2024, detailing assets, liabilities, and total equity in both Renminbi (RMB) and U.S. dollars. The document also provides exchange rate information for the currency conversion.\n",
      "This chunk appears to be part of a financial statement, likely a balance sheet, showing changes in liabilities over time. It contrasts current and non-current liabilities, detailing specific items such as long-term borrowings and operating lease liabilities.\n",
      "This chunk represents sections from NIO Inc.'s unaudited condensed consolidated financial statements, covering balance sheets as of December 31, 2023 and June 30, 2024, a statement of comprehensive loss for three months ended June 30, 2023, March 31, 2024, and June 30, 2024. The financial data includes liabilities, equity, revenues, cost of sales, operating expenses, and income tax expense.\n",
      "This chunk appears to be part of an income statement or financial results section, likely for multiple accounting periods. It details key financial metrics including loss before income tax expense, income tax expense, net loss, and accretion on redeemable non-controlling interests. These figures are broken down by period, providing a historical view of the company's financial performance.\n",
      "This chunk is part of an unaudited condensed consolidated statement of comprehensive loss for NIO Inc. It covers the company's financial performance from June 30, 2023 to June 30, 2024, detailing revenues, costs, operating expenses, and other income statements in both RMB and US dollars.\n",
      "This chunk presents financial metrics including share of income/(losses) of equity investees, other (losses)/income, net, loss before income tax expense, income tax expense, net loss, accretion on redeemable non-controlling interests, and net loss attributable to ordinary shareholders for a company, likely NIO Inc., across multiple periods.\n",
      "This chunk provides detailed financial information, including foreign currency translation adjustments, other comprehensive income, and comprehensive loss, along with net losses attributable to non-controlling interests and ordinary shareholders. It also includes an unaudited reconciliation between GAAP and Non-GAAP results for NIO Inc., covering both the three months ended June 30, 2024, and March 31, 2024.\n",
      "This chunk presents the financial metrics, specifically the net loss and net loss per share/ADS attributable to ordinary shareholders, for NIO Inc. over multiple periods. It is likely part of a quarterly or annual financial report where historical data is compared across different time intervals.\n",
      "This financial data presents the results of operations for NIO Inc. for three months and six months ending June 30, 2023 and June 30, 2024, including GAAP results and adjusted (Non-GAAP) results. The table details various expenses such as cost of sales, research and development expenses, selling, general, and administrative expenses, total expenses, loss from operations, net loss, and net loss attributable to ordinary shareholders for both periods, along with per share figures in RMB and USD.\n",
      "This chunk provides details on currency conversion rates, definitions of financial metrics (vehicle margin), and specifies the method of calculating changes in certain financial indicators. It is part of a document likely discussing financial performance or metrics related to vehicle sales, possibly in a report or analysis.\n"
     ]
    }
   ],
   "source": [
    "\n",
    "# Usage\n",
    "process_documents(split_documents)"
   ]
  },
  {
   "cell_type": "code",
   "execution_count": 11,
   "metadata": {},
   "outputs": [],
   "source": [
    "vectorstore = Chroma.from_documents(\n",
    "    split_documents,\n",
    "    embedding=embeddings\n",
    ")\n",
    "     "
   ]
  },
  {
   "cell_type": "code",
   "execution_count": 12,
   "metadata": {},
   "outputs": [],
   "source": [
    "\n",
    "retriever = vectorstore.as_retriever()"
   ]
  },
  {
   "cell_type": "code",
   "execution_count": 13,
   "metadata": {},
   "outputs": [
    {
     "name": "stderr",
     "output_type": "stream",
     "text": [
      "/home/forrest/miniconda3/envs/langchain/lib/python3.11/site-packages/pydantic/_internal/_fields.py:160: UserWarning: Field \"model_name_or_path\" has conflict with protected namespace \"model_\".\n",
      "\n",
      "You may be able to resolve this warning by setting `model_config['protected_namespaces'] = ()`.\n",
      "  warnings.warn(\n",
      "/home/forrest/miniconda3/envs/langchain/lib/python3.11/site-packages/pydantic/_internal/_fields.py:160: UserWarning: Field \"model_kwargs\" has conflict with protected namespace \"model_\".\n",
      "\n",
      "You may be able to resolve this warning by setting `model_config['protected_namespaces'] = ()`.\n",
      "  warnings.warn(\n"
     ]
    }
   ],
   "source": [
    "from langchain_community.document_compressors.openvino_rerank import OpenVINOReranker"
   ]
  },
  {
   "cell_type": "code",
   "execution_count": 14,
   "metadata": {},
   "outputs": [],
   "source": [
    "rerank_model = 'mixedbread-ai/mxbai-rerank-large-v1'"
   ]
  },
  {
   "cell_type": "code",
   "execution_count": 15,
   "metadata": {},
   "outputs": [
    {
     "name": "stderr",
     "output_type": "stream",
     "text": [
      "Framework not specified. Using pt to export the model.\n",
      "Using framework PyTorch: 2.4.1+cu121\n",
      "/home/forrest/miniconda3/envs/langchain/lib/python3.11/site-packages/nncf/torch/dynamic_graph/wrappers.py:86: TracerWarning: torch.tensor results are registered as constants in the trace. You can safely ignore this warning if you use this function to create tensors out of constant variables that would be the same every time you call this function. In any other case, this might cause the trace to be incorrect.\n",
      "  op1 = operator(*args, **kwargs)\n",
      "/home/forrest/miniconda3/envs/langchain/lib/python3.11/site-packages/nncf/torch/dynamic_graph/wrappers.py:86: UserWarning: To copy construct from a tensor, it is recommended to use sourceTensor.clone().detach() or sourceTensor.clone().detach().requires_grad_(True), rather than torch.tensor(sourceTensor).\n",
      "  op1 = operator(*args, **kwargs)\n",
      "/home/forrest/miniconda3/envs/langchain/lib/python3.11/site-packages/transformers/models/deberta_v2/modeling_deberta_v2.py:798: TracerWarning: Converting a tensor to a Python boolean might cause the trace to be incorrect. We can't record the data flow of Python values, so this value will be treated as a constant in the future. This means that the trace might not generalize to other inputs!\n",
      "  if key_layer.size(-2) != query_layer.size(-2):\n",
      "Compiling the model to CPU ...\n"
     ]
    }
   ],
   "source": [
    "compressor = OpenVINOReranker(model_name_or_path=rerank_model, \n",
    "                              top_n=4,\n",
    "                            )\n",
    "                            #   model_kwargs={\"device\": \"cuda\"})"
   ]
  },
  {
   "cell_type": "code",
   "execution_count": 16,
   "metadata": {},
   "outputs": [],
   "source": [
    "from langchain.retrievers.contextual_compression import ContextualCompressionRetriever"
   ]
  },
  {
   "cell_type": "code",
   "execution_count": 17,
   "metadata": {},
   "outputs": [],
   "source": [
    "compression_retriever = ContextualCompressionRetriever(\n",
    "    base_compressor=compressor, base_retriever=retriever\n",
    ")\n",
    "     "
   ]
  },
  {
   "cell_type": "code",
   "execution_count": 18,
   "metadata": {},
   "outputs": [],
   "source": [
    "from langchain import hub\n",
    "from langchain_core.runnables import RunnablePassthrough\n",
    "from langchain_core.output_parsers import StrOutputParser"
   ]
  },
  {
   "cell_type": "code",
   "execution_count": 19,
   "metadata": {},
   "outputs": [
    {
     "name": "stderr",
     "output_type": "stream",
     "text": [
      "/home/forrest/miniconda3/envs/langchain/lib/python3.11/site-packages/langsmith/client.py:354: LangSmithMissingAPIKeyWarning: API key must be provided when using hosted LangSmith API\n",
      "  warnings.warn(\n"
     ]
    }
   ],
   "source": [
    "prompt = hub.pull(\"rlm/rag-prompt\")\n",
    "\n",
    "\n",
    "\n",
    "     "
   ]
  },
  {
   "cell_type": "code",
   "execution_count": 20,
   "metadata": {},
   "outputs": [
    {
     "data": {
      "text/plain": [
       "ChatPromptTemplate(input_variables=['context', 'question'], input_types={}, partial_variables={}, metadata={'lc_hub_owner': 'rlm', 'lc_hub_repo': 'rag-prompt', 'lc_hub_commit_hash': '50442af133e61576e74536c6556cefe1fac147cad032f4377b60c436e6cdcb6e'}, messages=[HumanMessagePromptTemplate(prompt=PromptTemplate(input_variables=['context', 'question'], input_types={}, partial_variables={}, template=\"You are an assistant for question-answering tasks. Use the following pieces of retrieved context to answer the question. If you don't know the answer, just say that you don't know. Use three sentences maximum and keep the answer concise.\\nQuestion: {question} \\nContext: {context} \\nAnswer:\"), additional_kwargs={})])"
      ]
     },
     "execution_count": 20,
     "metadata": {},
     "output_type": "execute_result"
    }
   ],
   "source": [
    "prompt"
   ]
  },
  {
   "cell_type": "code",
   "execution_count": 21,
   "metadata": {},
   "outputs": [],
   "source": [
    "def format_docs(docs):\n",
    "    return \"\\n\\n\".join(doc.page_content for doc in docs)\n",
    "\n",
    "\n",
    "rag_chain = (\n",
    "    {\"context\": compression_retriever | format_docs, \"question\": RunnablePassthrough()}\n",
    "    | prompt\n",
    "    | llm\n",
    "    | StrOutputParser()\n",
    ")"
   ]
  },
  {
   "cell_type": "code",
   "execution_count": 22,
   "metadata": {},
   "outputs": [],
   "source": [
    "res = rag_chain.invoke(\"What is the vehicle sales?\")"
   ]
  },
  {
   "cell_type": "code",
   "execution_count": 23,
   "metadata": {},
   "outputs": [
    {
     "name": "stdout",
     "output_type": "stream",
     "text": [
      "Vehicle sales for the second quarter of 2024 were RMB15,679.6 million, representing an increase of 118.2% from the second quarter of 2023 and an increase of 87.1% from the first quarter of 2024.\n"
     ]
    }
   ],
   "source": [
    "print(res)"
   ]
  },
  {
   "cell_type": "code",
   "execution_count": 24,
   "metadata": {},
   "outputs": [
    {
     "data": {
      "text/plain": [
       "\"\\nVehicle sales refer to new vehicles sold during a specific period, typically measured in units or revenue. In this case, NIO's vehicle sales for Q2 2024 were RMB15,679.6 million (US$2,157.6 million). This represents an increase of 87.1% from the first quarter of 2023 and 118.2% from the second quarter of 2023.\\n\""
      ]
     },
     "execution_count": 24,
     "metadata": {},
     "output_type": "execute_result"
    }
   ],
   "source": [
    "# llama3.2\n",
    "\"\"\"\n",
    "Vehicle sales refer to new vehicles sold during a specific period, typically measured in units or revenue. In this case, NIO's vehicle sales for Q2 2024 were RMB15,679.6 million (US$2,157.6 million). This represents an increase of 87.1% from the first quarter of 2023 and 118.2% from the second quarter of 2023.\n",
    "\"\"\"\n",
    "\n",
    "\n",
    "# qwen2.5\n",
    "\"\"\"\n",
    "\\nVehicle sales refer to new vehicles sold during a specific period, typically measured in units or revenue. In this case, NIO's vehicle sales for Q2 2024 were RMB15,679.6 million (US$2,157.6 million). This represents an increase of 87.1% from the first quarter of 2023 and 118.2% from the second quarter of 2023.\\n\n",
    "\"\"\""
   ]
  }
 ],
 "metadata": {
  "kernelspec": {
   "display_name": "langchain",
   "language": "python",
   "name": "python3"
  },
  "language_info": {
   "codemirror_mode": {
    "name": "ipython",
    "version": 3
   },
   "file_extension": ".py",
   "mimetype": "text/x-python",
   "name": "python",
   "nbconvert_exporter": "python",
   "pygments_lexer": "ipython3",
   "version": "3.11.9"
  }
 },
 "nbformat": 4,
 "nbformat_minor": 2
}
